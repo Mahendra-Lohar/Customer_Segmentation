{
 "cells": [
  {
   "cell_type": "code",
   "execution_count": 1,
   "metadata": {},
   "outputs": [],
   "source": [
    "import numpy as np \n",
    "import pandas as pd \n",
    "import matplotlib.pyplot as plt \n",
    "import seaborn as sns "
   ]
  },
  {
   "cell_type": "code",
   "execution_count": null,
   "metadata": {},
   "outputs": [],
   "source": [
    "df=pd.read_csv(\"D:\\screenshot\\Mall_Customers.csv\")\n",
    "df.head()"
   ]
  },
  {
   "cell_type": "code",
   "execution_count": null,
   "metadata": {},
   "outputs": [],
   "source": [
    "df.shape"
   ]
  },
  {
   "cell_type": "code",
   "execution_count": null,
   "metadata": {},
   "outputs": [],
   "source": [
    "df.describe()"
   ]
  },
  {
   "cell_type": "code",
   "execution_count": null,
   "metadata": {},
   "outputs": [],
   "source": [
    "df.dtypes"
   ]
  },
  {
   "cell_type": "code",
   "execution_count": null,
   "metadata": {},
   "outputs": [],
   "source": [
    "df.isnull().sum()"
   ]
  },
  {
   "cell_type": "code",
   "execution_count": null,
   "metadata": {},
   "outputs": [],
   "source": [
    "df.drop([\"CustomerID\"],axis=1, inplace = True)"
   ]
  },
  {
   "cell_type": "code",
   "execution_count": null,
   "metadata": {},
   "outputs": [],
   "source": [
    "plt.figure(1, figsize=(15,6))\n",
    "n=0\n",
    "for x in ['Age' , 'Annual Income (k$)' ,'Spending Score (1-100)']:\n",
    "    n += 1\n",
    "    plt.subplot(1 , 3 , n)\n",
    "    plt.subplots_adjust(hspace =0.5 , wspace = 0.5)\n",
    "    sns.distplot(df[x], bins = 20)\n",
    "    plt.title('Distplot of {}'.format(x))\n",
    "plt.show()"
   ]
  },
  {
   "cell_type": "code",
   "execution_count": null,
   "metadata": {},
   "outputs": [],
   "source": [
    "plt.figure(figsize=(15,5))\n",
    "sns.countplot(y= 'Gender',data=df)\n",
    "plt.show()"
   ]
  },
  {
   "cell_type": "code",
   "execution_count": null,
   "metadata": {},
   "outputs": [],
   "source": [
    "plt.figure(1,figsize=(15,7))\n",
    "n=0\n",
    "for cols in ['Age', 'Annual Income (k$)' , 'Spending Score (1-100)']:\n",
    "    n +=1\n",
    "    plt.subplot(1 , 3 , n)\n",
    "    sns.set(style=\"whitegrid\")\n",
    "    plt.subplots_adjust(hspace=0.5 , wspace=0.5 )\n",
    "    sns.violinplot(x = cols , y ='Gender' , data =df)\n",
    "    plt.ylabel('Gender' if n == 1 else '')\n",
    "    plt.title('Violin Plot')\n",
    "plt.show() "
   ]
  },
  {
   "cell_type": "code",
   "execution_count": null,
   "metadata": {},
   "outputs": [],
   "source": [
    "age_18_25 =df.Age[(df.Age >= 18) & (df.Age <= 25)]\n",
    "age_26_35 =df.Age[(df.Age >= 26) & (df.Age <= 35)]\n",
    "age_36_45 =df.Age[(df.Age >= 36) & (df.Age <= 45)]\n",
    "age_46_55 =df.Age[(df.Age >= 46) & (df.Age <= 55)]\n",
    "age_55above = df.Age[df.Age >= 56]\n",
    "\n",
    "agex = [\"18-25\", \"26-35\", \"36-45\", \"46-55\", \"55+\"]\n",
    "apey = [ len(age_18_25.values), len(age_26_35.values), len(age_36_45.values) , len(age_46_55.values), len(age_55above.values) ]\n",
    "\n",
    "\n",
    "plt.figure(figsize=(15,6))\n",
    "sns.barplot(x=agex, y= apey, palette=\"mako\")\n",
    "plt.title(\"Number of Customer and Ages\")\n",
    "plt.xlabel(\"Age\")\n",
    "plt.ylabel(\"Number of Customers\")\n",
    "plt.show()"
   ]
  },
  {
   "cell_type": "code",
   "execution_count": null,
   "metadata": {},
   "outputs": [],
   "source": [
    "sns.relplot(x= \"Annual Income (k$)\" , y =\"Spending Score (1-100)\", data=df)"
   ]
  },
  {
   "cell_type": "code",
   "execution_count": null,
   "metadata": {},
   "outputs": [],
   "source": [
    "ss_1_20 = df[\"Spending Score (1-100)\"][(df[\"Spending Score (1-100)\"] >= 1) & (df[\"Spending Score (1-100)\"] <= 20)]\n",
    "ss_21_40 = df[\"Spending Score (1-100)\"][(df[\"Spending Score (1-100)\"] >=21) & (df[\"Spending Score (1-100)\"] <= 40)]\n",
    "ss_41_60 = df[\"Spending Score (1-100)\"][(df[\"Spending Score (1-100)\"] >=41) & (df[\"Spending Score (1-100)\"] <= 60)]\n",
    "ss_61_80 = df[\"Spending Score (1-100)\"][(df[\"Spending Score (1-100)\"] >=61) & (df[\"Spending Score (1-100)\"] <= 80)]\n",
    "ss_81_100 = df[\"Spending Score (1-100)\"][(df[\"Spending Score (1-100)\"] >=81) & (df[\"Spending Score (1-100)\"] <= 100)]\n",
    "\n",
    "ssx = [\"1-20\" , \"21-40\" ,\"41-60\", \"61-80\" , \"81-100\" ]\n",
    "ssy = [len(ss_1_20.values) , len(ss_21_40.values) , len(ss_41_60.values) , len(ss_61_80.values) , len(ss_81_100.values) ]\n",
    "\n",
    "plt.figure(figsize =(15,6))\n",
    "sns.barplot(x=ssx , y=ssy , palette=\"rocket\")\n",
    "plt.title(\"Spending Score\")\n",
    "plt.xlabel(\"Score\")\n",
    "plt.ylabel(\"Number of Customer Having the Score\")\n",
    "plt.show()"
   ]
  },
  {
   "cell_type": "code",
   "execution_count": null,
   "metadata": {},
   "outputs": [],
   "source": [
    "ai0_30 =df[\"Annual Income (k$)\"][(df[\"Annual Income (k$)\"] >= 0) & (df[\"Annual Income (k$)\"] <=30)]\n",
    "ai31_60 =df[\"Annual Income (k$)\"][(df[\"Annual Income (k$)\"] >= 31) & (df[\"Annual Income (k$)\"] <=60)]\n",
    "ai61_90 =df[\"Annual Income (k$)\"][(df[\"Annual Income (k$)\"] >= 61) & (df[\"Annual Income (k$)\"] <=90)]\n",
    "ai91_120 =df[\"Annual Income (k$)\"][(df[\"Annual Income (k$)\"] >= 91) & (df[\"Annual Income (k$)\"] <=120)]\n",
    "ai121_150 =df[\"Annual Income (k$)\"][(df[\"Annual Income (k$)\"] >= 121) & (df[\"Annual Income (k$)\"] <=150)]\n",
    "\n",
    "aix = [\"$ 0- 30,000\" ,\"$ 30,001- 60,000\",\"$ 60,001- 90,000\",\"$ 90,001- 120,000\",\"$ 120,001- 150,000\" ]\n",
    "aiy = [len(ai0_30.values) ,len(ai31_60.values),len(ai61_90.values),len(ai91_120.values),len(ai121_150.values)]\n",
    "\n",
    "plt.figure(figsize =(15,6))\n",
    "sns.barplot(x=aix , y=aiy , palette=\"Spectral\")\n",
    "plt.title(\"SAnnual Income\")\n",
    "plt.xlabel(\"Income\")\n",
    "plt.ylabel(\"Number of Customer \")\n",
    "plt.show()"
   ]
  },
  {
   "cell_type": "code",
   "execution_count": null,
   "metadata": {},
   "outputs": [],
   "source": [
    "X1=df.loc[:,[\"Age\",\"Spending Score (1-100)\" ]].values\n",
    "\n",
    "from sklearn.cluster import KMeans\n",
    "wcss=[]\n",
    "for k in range(1,11):\n",
    "    kmeans = KMeans(n_clusters=k , init = \"k-means++\")\n",
    "    kmeans.fit(X1)\n",
    "    wcss.append(kmeans.inertia_)\n",
    "plt.figure(figsize=(12,6))\n",
    "plt.grid()\n",
    "plt.plot(range(1,11),wcss, linewidth=2, color=\"Green\", marker =\"8\")\n",
    "plt.xlabel(\"k value\")\n",
    "plt.ylabel(\"WCSS\")\n",
    "plt.show()\n"
   ]
  },
  {
   "cell_type": "code",
   "execution_count": null,
   "metadata": {},
   "outputs": [],
   "source": [
    " kmeans = KMeans(n_clusters=4)\n",
    "\n",
    " label = kmeans.fit_predict(X1)\n",
    "\n",
    " print(label)"
   ]
  },
  {
   "cell_type": "code",
   "execution_count": null,
   "metadata": {},
   "outputs": [],
   "source": [
    "print(kmeans.cluster_centers_)"
   ]
  },
  {
   "cell_type": "code",
   "execution_count": null,
   "metadata": {},
   "outputs": [],
   "source": [
    "plt.scatter(X1[:,0],X1[:,1],c=kmeans.labels_,cmap='rainbow')\n",
    "plt.scatter(kmeans.cluster_centers_[:,0], kmeans.cluster_centers_[:,1],color='black')\n",
    "plt.title('Cluster of Customers')\n",
    "plt.xlabel('Age')\n",
    "plt.ylabel('Spendig score(1-100)')\n",
    "plt.show()"
   ]
  },
  {
   "cell_type": "code",
   "execution_count": null,
   "metadata": {},
   "outputs": [],
   "source": [
    "X2=df.loc[:,[\"Annual Income (k$)\",\"Spending Score (1-100)\" ]].values\n",
    "\n",
    "from sklearn.cluster import KMeans\n",
    "wcss=[]\n",
    "for k in range(1,11):\n",
    "    kmeans = KMeans(n_clusters=k , init = \"k-means++\")\n",
    "    kmeans.fit(X2)\n",
    "    wcss.append(kmeans.inertia_)\n",
    "plt.figure(figsize=(12,6))\n",
    "plt.grid()\n",
    "plt.plot(range(1,11),wcss, linewidth=2, color=\"Green\", marker =\"8\")\n",
    "plt.xlabel(\"k value\")\n",
    "plt.ylabel(\"WCSS\")\n",
    "plt.show()\n"
   ]
  },
  {
   "cell_type": "code",
   "execution_count": null,
   "metadata": {},
   "outputs": [],
   "source": [
    " kmeans = KMeans(n_clusters=5)\n",
    "\n",
    " label = kmeans.fit_predict(X2)\n",
    "\n",
    " print(label)"
   ]
  },
  {
   "cell_type": "code",
   "execution_count": null,
   "metadata": {},
   "outputs": [],
   "source": [
    "print(kmeans.cluster_centers_)"
   ]
  },
  {
   "cell_type": "code",
   "execution_count": null,
   "metadata": {},
   "outputs": [],
   "source": [
    "plt.scatter(X2[:,0],X2[:,1],c=kmeans.labels_,cmap='rainbow')\n",
    "plt.scatter(kmeans.cluster_centers_[:,0], kmeans.cluster_centers_[:,1],color='black')\n",
    "plt.title('Cluster of Customers')\n",
    "plt.xlabel('Annual Income (K$)')\n",
    "plt.ylabel('Spendig score(1-100)')\n",
    "plt.show()"
   ]
  },
  {
   "cell_type": "code",
   "execution_count": null,
   "metadata": {},
   "outputs": [],
   "source": [
    "X3=df.iloc[:,1:]\n",
    "\n",
    "wcss=[]\n",
    "for k in range(1,11):\n",
    "    kmeans = KMeans(n_clusters=k , init = \"k-means++\")\n",
    "    kmeans.fit(X3)\n",
    "    wcss.append(kmeans.inertia_)\n",
    "plt.figure(figsize=(12,6))\n",
    "plt.grid()\n",
    "plt.plot(range(1,11),wcss, linewidth=2, color=\"Green\", marker =\"8\")\n",
    "plt.xlabel(\"k value\")\n",
    "plt.ylabel(\"WCSS\")\n",
    "plt.show()\n"
   ]
  },
  {
   "cell_type": "code",
   "execution_count": null,
   "metadata": {},
   "outputs": [],
   "source": [
    " kmeans = KMeans(n_clusters=5)\n",
    "\n",
    " label = kmeans.fit_predict(X3)\n",
    "\n",
    " print(label)"
   ]
  },
  {
   "cell_type": "code",
   "execution_count": null,
   "metadata": {},
   "outputs": [],
   "source": [
    "print(kmeans.cluster_centers_)"
   ]
  },
  {
   "cell_type": "code",
   "execution_count": null,
   "metadata": {},
   "outputs": [],
   "source": [
    "clusters = kmeans.fit_predict(X3)\n",
    "df[\"label\"] = clusters\n",
    "\n",
    "from mpl_toolkits.mplot3d import Axes3D\n",
    "\n",
    "fig = plt.figure(figsize = (20,10))\n",
    "ax = fig.add_subplot(111, projection = '3d')\n",
    "ax.scatter(df.Age[df.label == 0], df[\"Annual Income (k$)\"][df.label == 0], df[\"Spending Score (1-100)\"][df.label == 0], c ='blue', s=60)\n",
    "ax.scatter(df.Age[df.label == 1], df[\"Annual Income (k$)\"][df.label == 1], df[\"Spending Score (1-100)\"][df.label == 1], c ='red', s=60)\n",
    "ax.scatter(df.Age[df.label == 2], df[\"Annual Income (k$)\"][df.label == 2], df[\"Spending Score (1-100)\"][df.label == 2], c ='green', s=60)\n",
    "ax.scatter(df.Age[df.label == 3], df[\"Annual Income (k$)\"][df.label == 3], df[\"Spending Score (1-100)\"][df.label == 3], c ='orange', s=60)\n",
    "ax.scatter(df.Age[df.label == 4], df[\"Annual Income (k$)\"][df.label == 4], df[\"Spending Score (1-100)\"][df.label == 4], c ='purple', s=60)\n",
    "ax.view_init(30,185)\n",
    "\n",
    "plt.xlabel(\"Age\") \n",
    "plt.ylabel(\"Annual Income (k$)\")\n",
    "ax.set_zlabel('Spending Score (1-100)')\n",
    "\n",
    "plt.show()\n"
   ]
  }
 ],
 "metadata": {
  "interpreter": {
   "hash": "5a9181eddb88799adaa163c5785b011277ee51f67dc3f1162ba201edbf6afed4"
  },
  "kernelspec": {
   "display_name": "Python 3.9.7 64-bit",
   "name": "python3"
  },
  "language_info": {
   "codemirror_mode": {
    "name": "ipython",
    "version": 3
   },
   "file_extension": ".py",
   "mimetype": "text/x-python",
   "name": "python",
   "nbconvert_exporter": "python",
   "pygments_lexer": "ipython3",
   "version": "3.9.7"
  },
  "orig_nbformat": 4
 },
 "nbformat": 4,
 "nbformat_minor": 2
}
